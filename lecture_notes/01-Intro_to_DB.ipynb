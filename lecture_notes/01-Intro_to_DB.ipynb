{
 "cells": [
  {
   "cell_type": "markdown",
   "metadata": {
    "slideshow": {
     "slide_type": "slide"
    }
   },
   "source": [
    "# What is a Database?"
   ]
  },
  {
   "cell_type": "markdown",
   "metadata": {
    "slideshow": {
     "slide_type": "subslide"
    }
   },
   "source": [
    "  > a structured set of data held in a computer, especially one that is accessible in various ways. a database covering nine million workers. [ as modifier ] : database systems.\n",
    "  >\n",
    "  > _Oxford Dictionary of English_"
   ]
  },
  {
   "cell_type": "markdown",
   "metadata": {
    "slideshow": {
     "slide_type": "subslide"
    }
   },
   "source": [
    "  > a usually large collection of data organized especially for rapid search and retrieval (as by a computer)\n",
    "  >\n",
    "  > https://www.merriam-webster.com/dictionary/database"
   ]
  },
  {
   "cell_type": "markdown",
   "metadata": {
    "slideshow": {
     "slide_type": "slide"
    }
   },
   "source": [
    "# What is a Database Management System?"
   ]
  },
  {
   "cell_type": "markdown",
   "metadata": {
    "slideshow": {
     "slide_type": "subslide"
    }
   },
   "source": [
    "  > A database-management system (DBMS) is a computer-software application that interacts with end-users, other applications, and the database itself to capture and analyze data. A general-purpose DBMS allows the definition, creation, querying, update, and administration of databases.\n",
    "  > \n",
    "  > https://en.wikipedia.org/wiki/Database"
   ]
  },
  {
   "cell_type": "markdown",
   "metadata": {
    "slideshow": {
     "slide_type": "slide"
    }
   },
   "source": [
    "# Your turn!\n",
    "\n",
    "![](http://www.twenty19.com/blog/wp-content/uploads/2017/07/typing2.gif)\n",
    "\n",
    "Build the likely simplest DB in the world!"
   ]
  },
  {
   "cell_type": "markdown",
   "metadata": {
    "slideshow": {
     "slide_type": "subslide"
    }
   },
   "source": [
    "# What is this?\n",
    "\n",
    "```bash\n",
    "#!/usr/bin/env bash\n",
    "db_set () {\n",
    "    echo \"$1,$2\" >> database\n",
    "}\n",
    "db_get () {\n",
    "    grep \"^$1,\" database | sed -e \"s/^$1,//\" | tail -n 1\n",
    "}\n",
    "```\n",
    "\n",
    "  * Type in the script above using the editor of your choice.\n",
    "  * **OBS** keep the spaces as they are, some of them are important.\n",
    "  * Save the script above in a file called `simple_db.sh`. \n",
    "  * Then source this file via `source simple_db.sh`."
   ]
  },
  {
   "cell_type": "markdown",
   "metadata": {
    "slideshow": {
     "slide_type": "subslide"
    }
   },
   "source": [
    "## Using the `simple_db`\n",
    "\n",
    "\n",
    "Run the following command subsequently and see what happens.\n",
    "\n",
    "```bash\n",
    "$ db_set 123456 '{\"name\":\"London\",\"attractions\":[\"Big Ben\",\"London Eye\"]}' \n",
    "$ db_set 42 '{\"name\":\"San Francisco\",\"attractions\":[\"Golden Gate Bridge\"]}'\n",
    "$ db_get 42\n",
    "```"
   ]
  },
  {
   "cell_type": "markdown",
   "metadata": {
    "slideshow": {
     "slide_type": "subslide"
    }
   },
   "source": [
    "## Exercise 1\n",
    "\n",
    "  * Talk to your neighbour and:\n",
    "    - Explain each other what the script -the DBMS `simple_db.sh`- does when _writing_ a record.\n",
    "    - Explain each other what the script -the DBMS `simple_db.sh`- does when _reading_ a record.\n",
    "  * What are really good features of our `simple_db.sh` DB?\n",
    "  * Additionally, create a list of three potential issues of our simple database."
   ]
  },
  {
   "cell_type": "markdown",
   "metadata": {
    "slideshow": {
     "slide_type": "subslide"
    }
   },
   "source": [
    "### Performance Issue\n",
    "\n",
    "  * Finding a datum for a key takes $O(n)$, i.e., linear time.\n",
    "  * What does that mean?"
   ]
  },
  {
   "cell_type": "code",
   "execution_count": 29,
   "metadata": {
    "slideshow": {
     "slide_type": "subslide"
    }
   },
   "outputs": [
    {
     "name": "stdout",
     "output_type": "stream",
     "text": [
      "37.5 ms ± 802 µs per loop (mean ± std. dev. of 7 runs, 10 loops each)\n",
      "74.9 ms ± 1.73 ms per loop (mean ± std. dev. of 7 runs, 10 loops each)\n",
      "377 ms ± 8.36 ms per loop (mean ± std. dev. of 7 runs, 1 loop each)\n"
     ]
    }
   ],
   "source": [
    "def inpect_each_element_in_a_list(list_len):\n",
    "    for el in range(list_len):\n",
    "        if el == 'a':\n",
    "            print(f'Found: {el}')\n",
    "\n",
    "\n",
    "%timeit inpect_each_element_in_a_list(1000000)\n",
    "%timeit inpect_each_element_in_a_list(1000000 * 2)\n",
    "%timeit inpect_each_element_in_a_list(1000000 * 10)"
   ]
  },
  {
   "cell_type": "markdown",
   "metadata": {
    "slideshow": {
     "slide_type": "slide"
    }
   },
   "source": [
    "### How can we speed-up the look up?\n",
    "\n",
    "  * Can we speed up the look up operation to constant time, i.e., $O(1)$\n",
    "  * Which data structure do you know in your favorite programming language that supports constant time look up?"
   ]
  },
  {
   "cell_type": "code",
   "execution_count": 21,
   "metadata": {
    "slideshow": {
     "slide_type": "subslide"
    }
   },
   "outputs": [
    {
     "data": {
      "text/plain": [
       "{0: '4L5PFMAcbZ',\n",
       " 1: '5pcPV26ufe',\n",
       " 2: 'H0cNmdQoF3',\n",
       " 3: 'eoNwvz2dIG',\n",
       " 4: 'LjJgaYcl1E',\n",
       " 5: '7F8ZebkxKX',\n",
       " 6: '4nGVc1dl5J',\n",
       " 7: 'MXzHa7jfd0',\n",
       " 8: 'WfB3t8hdNp',\n",
       " 9: 'j8pk3biGgr'}"
      ]
     },
     "execution_count": 21,
     "metadata": {},
     "output_type": "execute_result"
    }
   ],
   "source": [
    "import random\n",
    "import string\n",
    "\n",
    "\n",
    "def generate_random_data():\n",
    "    chars = string.ascii_letters + string.digits\n",
    "    return ''.join(random.sample(chars, 10))\n",
    "\n",
    "\n",
    "list_len = 10\n",
    "simple_index = {el: generate_random_data() for el in range(list_len)}\n",
    "simple_index"
   ]
  },
  {
   "cell_type": "code",
   "execution_count": 24,
   "metadata": {
    "collapsed": true,
    "slideshow": {
     "slide_type": "subslide"
    }
   },
   "outputs": [],
   "source": [
    "list_len = 1000000\n",
    "simple_index = {el: generate_random_data() for el in range(list_len)}"
   ]
  },
  {
   "cell_type": "code",
   "execution_count": 30,
   "metadata": {
    "slideshow": {
     "slide_type": "subslide"
    }
   },
   "outputs": [
    {
     "name": "stdout",
     "output_type": "stream",
     "text": [
      "48.5 ns ± 1.41 ns per loop (mean ± std. dev. of 7 runs, 10000000 loops each)\n",
      "48.4 ns ± 0.567 ns per loop (mean ± std. dev. of 7 runs, 10000000 loops each)\n",
      "48.5 ns ± 0.778 ns per loop (mean ± std. dev. of 7 runs, 10000000 loops each)\n"
     ]
    }
   ],
   "source": [
    "%timeit simple_index[10000]\n",
    "%timeit simple_index[10000 * 2]\n",
    "%timeit simple_index[10000 * 50]"
   ]
  },
  {
   "cell_type": "markdown",
   "metadata": {
    "slideshow": {
     "slide_type": "subslide"
    }
   },
   "source": [
    "### We just built an _index_!\n",
    "\n",
    "  * What is the drawback of using a Hashmap as a datastructure for keeping a database index?\n",
    "  * Talk to your neighbour and name two potential drawbacks."
   ]
  },
  {
   "cell_type": "markdown",
   "metadata": {
    "slideshow": {
     "slide_type": "slide"
    }
   },
   "source": [
    "# Why does this matter?\n",
    "\n",
    "  * One of the oldest DBMS -the Unix library `dbm`- works in that way, see in the following.\n",
    "  * Modern **key-value stores** such as _Riak_ (http://basho.com/products/riak-kv/) with the storage engine _Bitcask_ (https://docs.basho.com/riak/kv/2.0.7/setup/planning/backend/bitcask/) work that way.\n"
   ]
  },
  {
   "cell_type": "markdown",
   "metadata": {
    "slideshow": {
     "slide_type": "subslide"
    }
   },
   "source": [
    "## A closer look at `gdbm`, the _GNU dbm_\n",
    "\n",
    "Let's say you have a program in some language -here Ruby- and you want to persist some _key-value_ data.\n",
    "\n",
    "```ruby\n",
    "require 'gdbm'\n",
    "\n",
    "gdbm = GDBM.new(\"fruitstore.db\")\n",
    "gdbm[\"ananas\"]    = \"3\"\n",
    "gdbm[\"banana\"]    = \"8\"\n",
    "gdbm[\"cranberry\"] = \"4909\"\n",
    "gdbm[\"ananas\"]    = \"42\"\n",
    "gdbm.close\n",
    "```\n",
    "\n",
    "The example is adapted from:\n",
    "https://ruby-doc.org/stdlib-2.5.0/libdoc/gdbm/rdoc/GDBM.html"
   ]
  },
  {
   "cell_type": "markdown",
   "metadata": {
    "slideshow": {
     "slide_type": "subslide"
    }
   },
   "source": [
    "```ruby\n",
    "require 'gdbm'\n",
    "\n",
    "gdbm = GDBM.new(\"fruitstore.db\")\n",
    "gdbm.each_pair do |key, value|\n",
    "  print \"#{key}: #{value}\\n\"\n",
    "end\n",
    "gdbm.close\n",
    "```\n",
    "\n",
    "In case you have no Ruby installed on your system, you can run the program as in the following:\n",
    "\n",
    "```bash\n",
    "docker run -it --rm -v $(pwd):/src -w /src helgecph/pythonruby sh -c \"ruby gdbm_write.rb;ruby gdbm_read.rb\"\n",
    "```\n",
    "\n",
    "What do all the Docker switches mean and do?"
   ]
  },
  {
   "cell_type": "markdown",
   "metadata": {
    "collapsed": true,
    "slideshow": {
     "slide_type": "subslide"
    }
   },
   "source": [
    "### Exercise 2\n",
    "\n",
    "  * Inspect the file `fruitstore.db`\n",
    "    - What is the output of `file fruitstore.db`?\n",
    "    - What can you see when you look inside?\n",
    "    - How does that compare to our earlier file from \n",
    "   \n",
    "In case you do not have a tool like `xxd` or `hexdump` installed on your machine you can see the contents of the file for example with:\n",
    "```bash\n",
    "docker run -it --rm -v $(pwd):/src -w /src helgecph/pythonruby sh -c \"hexdump -C fruitstore.db\"\n",
    "```"
   ]
  },
  {
   "cell_type": "markdown",
   "metadata": {},
   "source": [
    "A dumb Python GDBM implementation\n",
    "https://github.com/python/cpython/blob/3.6/Lib/dbm/dumb.py"
   ]
  },
  {
   "cell_type": "markdown",
   "metadata": {
    "slideshow": {
     "slide_type": "slide"
    }
   },
   "source": [
    "# Your turn at home!\n",
    "\n",
    "![](http://www.twenty19.com/blog/wp-content/uploads/2017/07/typing2.gif)\n",
    "\n",
    "  * Build a `simple_db` in the programming language of your choice.\n",
    "    - Implement a Hashmap-based index.\n",
    "    - Implement functionality to store your data on disk in a binary file.\n",
    "    - Implement functionality to read your data from disk again, so that you can reinstantiate your database after a shutdown."
   ]
  }
 ],
 "metadata": {
  "celltoolbar": "Slideshow",
  "kernelspec": {
   "display_name": "Python 3",
   "language": "python",
   "name": "python3"
  },
  "language_info": {
   "codemirror_mode": {
    "name": "ipython",
    "version": 3
   },
   "file_extension": ".py",
   "mimetype": "text/x-python",
   "name": "python",
   "nbconvert_exporter": "python",
   "pygments_lexer": "ipython3",
   "version": "3.6.3"
  }
 },
 "nbformat": 4,
 "nbformat_minor": 2
}
